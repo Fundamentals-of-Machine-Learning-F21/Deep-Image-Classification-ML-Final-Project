{
 "cells": [
  {
   "cell_type": "code",
   "execution_count": 2,
   "id": "15464bd1",
   "metadata": {},
   "outputs": [],
   "source": [
    "import numpy as np\n",
    "import numpy.random as npr\n",
    "import matplotlib.pyplot as plt\n",
    "from sklearn.model_selection import train_test_split\n",
    "from sklearn.preprocessing import StandardScaler\n",
    "from sklearn.neighbors import KNeighborsClassifier\n",
    "from sklearn.naive_bayes import GaussianNB\n",
    "import numpy.random as npr\n",
    "import cv2\n",
    "from sklearn.model_selection import train_test_split\n",
    "from sklearn.preprocessing import StandardScaler\n",
    "from sklearn.metrics import classification_report, confusion_matrix\n",
    "%matplotlib inline\n",
    "plt.style.use('bmh')"
   ]
  },
  {
   "cell_type": "code",
   "execution_count": 3,
   "id": "8fd3b7a5",
   "metadata": {},
   "outputs": [],
   "source": [
    "import matplotlib.pyplot as plt\n",
    "import numpy as np\n",
    "import os\n",
    "import PIL\n",
    "import tensorflow as tf\n",
    "\n",
    "from tensorflow import keras\n",
    "from tensorflow.keras import layers\n",
    "from tensorflow.keras.models import Sequential\n",
    "from tensorflow import keras"
   ]
  },
  {
   "cell_type": "code",
   "execution_count": 5,
   "id": "c5227759",
   "metadata": {},
   "outputs": [
    {
     "name": "stdout",
     "output_type": "stream",
     "text": [
      "(270000, 3124) (3124,)\n",
      "3124\n"
     ]
    }
   ],
   "source": [
    "# Loading Data. replace 'data_train.npy' with 'data_test.npy' and 'labels_train.npy' with 'labels_test.npy'\n",
    "data_test = np.load('data_train.npy')\n",
    "labels_test = np.load('labels_train.npy')\n",
    "\n",
    "labels_names =['Stadium','Building','Traffic Sign','Forest','Flowers',\n",
    "              'Street','Classroom','Bridge','Statue','Lake']\n",
    "\n",
    "print(data_test.shape, labels_test.shape)\n",
    "print(labels_test.shape[0])"
   ]
  },
  {
   "cell_type": "code",
   "execution_count": null,
   "id": "b75f5f92",
   "metadata": {},
   "outputs": [],
   "source": [
    "#loading the model\n",
    "y_final_new = labels_test - 1 #to have 0-9 instead of 1-10\n",
    "number_of_images = labels_test.shape \n",
    "data_test_resized = np.resize(data_test,(number_of_images,300,300,3))\n",
    "\n",
    "#load\n",
    "model_new = tf.keras.models.load_model('final_model.h5')\n",
    "predictions = model_new.predict(data_test_resized)\n",
    "scores_cnn = tf.nn.softmax(predictions)\n",
    "scores_cnn_np = np.array(scores_cnn)"
   ]
  },
  {
   "cell_type": "code",
   "execution_count": null,
   "id": "7059a7c8",
   "metadata": {},
   "outputs": [],
   "source": [
    "#prediciting the classifications\n",
    "final_scores = scores_cnn_np\n",
    "num_pred = final_scores.shape[0]\n",
    "final_predictions = np.zeros(num_pred)\n",
    "#final_scores.shape\n",
    "for i in range(num_pred):\n",
    "    index = np.where(final_scores[i,:] == np.amax(final_scores[i,:]))\n",
    "    #print(index)\n",
    "    final_predictions[i] = index[0] + 1\n",
    "    \n",
    "#final_predictions\n",
    "\n",
    "conf_matrix_boost = confusion_matrix(labels_test, final_predictions)\n",
    "class_report_boost = classification_report(labels_test, final_predictions)\n",
    "print(conf_matrix_boost)\n",
    "print(class_report_boost)"
   ]
  }
 ],
 "metadata": {
  "kernelspec": {
   "display_name": "Python 3",
   "language": "python",
   "name": "python3"
  },
  "language_info": {
   "codemirror_mode": {
    "name": "ipython",
    "version": 3
   },
   "file_extension": ".py",
   "mimetype": "text/x-python",
   "name": "python",
   "nbconvert_exporter": "python",
   "pygments_lexer": "ipython3",
   "version": "3.8.8"
  }
 },
 "nbformat": 4,
 "nbformat_minor": 5
}
